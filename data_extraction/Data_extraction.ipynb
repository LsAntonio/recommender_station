{
 "cells": [
  {
   "cell_type": "markdown",
   "metadata": {
    "id": "NC-ceGb8LRLT"
   },
   "source": [
    "# Extracting data using Cinemagoer"
   ]
  },
  {
   "cell_type": "markdown",
   "metadata": {},
   "source": [
    "__Authors:__\n",
    "\n",
    "|             Nombres            |       Correo       |\n",
    "|--------------------------------|--------------------|\n",
    "|Laura Vanessa Lopez Serrano     | llopezs6@uc.cl     |\n",
    "|Luis Antonio Aguilar Gutiérrez  | laaguilarg@uc.cl   |"
   ]
  },
  {
   "cell_type": "markdown",
   "metadata": {},
   "source": [
    "## Intro\n",
    "\n",
    "In this notebook, we are going to extract the cast from a list of movies on Imdb. We are going to install the latest version of [Cinemagoer](https://github.com/cinemagoer/cinemagoer):\n",
    "\n",
    "```bash\n",
    "pip install git+https://github.com/cinemagoer/cinemagoer\n",
    "```\n"
   ]
  },
  {
   "cell_type": "markdown",
   "metadata": {},
   "source": [
    "## Data loading"
   ]
  },
  {
   "cell_type": "markdown",
   "metadata": {},
   "source": [
    "We need to load and extract the data from the MovieLens-100k. This code was from the tutorial"
   ]
  },
  {
   "cell_type": "code",
   "execution_count": 1,
   "metadata": {},
   "outputs": [
    {
     "name": "stdout",
     "output_type": "stream",
     "text": [
      "Requirement already satisfied: wget in /home/antonio/anaconda3/envs/res/lib/python3.9/site-packages (3.2)\n",
      "Requirement already satisfied: zipfile36 in /home/antonio/anaconda3/envs/res/lib/python3.9/site-packages (0.1.3)\n",
      "100% [......................................................] 4924029 / 4924029\n",
      "Saved under ml-100k.zip\n"
     ]
    }
   ],
   "source": [
    "!pip install wget\n",
    "!pip install zipfile36\n",
    "!python -m wget http://files.grouplens.org/datasets/movielens/ml-100k.zip"
   ]
  },
  {
   "cell_type": "code",
   "execution_count": 3,
   "metadata": {},
   "outputs": [],
   "source": [
    "import zipfile\n",
    "with zipfile.ZipFile(\"ml-100k.zip\", 'r') as zip_ref:\n",
    "    zip_ref.extractall(\".\")"
   ]
  },
  {
   "cell_type": "code",
   "execution_count": 1,
   "metadata": {},
   "outputs": [],
   "source": [
    "from data_operations import load_data"
   ]
  },
  {
   "cell_type": "code",
   "execution_count": 4,
   "metadata": {},
   "outputs": [],
   "source": [
    "df_items = load_data()"
   ]
  },
  {
   "cell_type": "code",
   "execution_count": 6,
   "metadata": {},
   "outputs": [
    {
     "data": {
      "text/html": [
       "<div>\n",
       "<style scoped>\n",
       "    .dataframe tbody tr th:only-of-type {\n",
       "        vertical-align: middle;\n",
       "    }\n",
       "\n",
       "    .dataframe tbody tr th {\n",
       "        vertical-align: top;\n",
       "    }\n",
       "\n",
       "    .dataframe thead th {\n",
       "        text-align: right;\n",
       "    }\n",
       "</style>\n",
       "<table border=\"1\" class=\"dataframe\">\n",
       "  <thead>\n",
       "    <tr style=\"text-align: right;\">\n",
       "      <th></th>\n",
       "      <th>itemid</th>\n",
       "      <th>title</th>\n",
       "      <th>release_date</th>\n",
       "      <th>video_release_date</th>\n",
       "      <th>IMDb_URL</th>\n",
       "      <th>unknown</th>\n",
       "      <th>genres</th>\n",
       "    </tr>\n",
       "  </thead>\n",
       "  <tbody>\n",
       "    <tr>\n",
       "      <th>0</th>\n",
       "      <td>1</td>\n",
       "      <td>Toy Story (1995)</td>\n",
       "      <td>01-Jan-1995</td>\n",
       "      <td>NaN</td>\n",
       "      <td>http://us.imdb.com/M/title-exact?Toy%20Story%2...</td>\n",
       "      <td>0</td>\n",
       "      <td>Animation|Children|Comedy</td>\n",
       "    </tr>\n",
       "    <tr>\n",
       "      <th>1</th>\n",
       "      <td>2</td>\n",
       "      <td>GoldenEye (1995)</td>\n",
       "      <td>01-Jan-1995</td>\n",
       "      <td>NaN</td>\n",
       "      <td>http://us.imdb.com/M/title-exact?GoldenEye%20(...</td>\n",
       "      <td>0</td>\n",
       "      <td>Action|Adventure|Thriller</td>\n",
       "    </tr>\n",
       "    <tr>\n",
       "      <th>2</th>\n",
       "      <td>3</td>\n",
       "      <td>Four Rooms (1995)</td>\n",
       "      <td>01-Jan-1995</td>\n",
       "      <td>NaN</td>\n",
       "      <td>http://us.imdb.com/M/title-exact?Four%20Rooms%...</td>\n",
       "      <td>0</td>\n",
       "      <td>Thriller</td>\n",
       "    </tr>\n",
       "    <tr>\n",
       "      <th>3</th>\n",
       "      <td>4</td>\n",
       "      <td>Get Shorty (1995)</td>\n",
       "      <td>01-Jan-1995</td>\n",
       "      <td>NaN</td>\n",
       "      <td>http://us.imdb.com/M/title-exact?Get%20Shorty%...</td>\n",
       "      <td>0</td>\n",
       "      <td>Action|Comedy|Drama</td>\n",
       "    </tr>\n",
       "    <tr>\n",
       "      <th>4</th>\n",
       "      <td>5</td>\n",
       "      <td>Copycat (1995)</td>\n",
       "      <td>01-Jan-1995</td>\n",
       "      <td>NaN</td>\n",
       "      <td>http://us.imdb.com/M/title-exact?Copycat%20(1995)</td>\n",
       "      <td>0</td>\n",
       "      <td>Crime|Drama|Thriller</td>\n",
       "    </tr>\n",
       "  </tbody>\n",
       "</table>\n",
       "</div>"
      ],
      "text/plain": [
       "   itemid              title release_date  video_release_date  \\\n",
       "0       1   Toy Story (1995)  01-Jan-1995                 NaN   \n",
       "1       2   GoldenEye (1995)  01-Jan-1995                 NaN   \n",
       "2       3  Four Rooms (1995)  01-Jan-1995                 NaN   \n",
       "3       4  Get Shorty (1995)  01-Jan-1995                 NaN   \n",
       "4       5     Copycat (1995)  01-Jan-1995                 NaN   \n",
       "\n",
       "                                            IMDb_URL  unknown  \\\n",
       "0  http://us.imdb.com/M/title-exact?Toy%20Story%2...        0   \n",
       "1  http://us.imdb.com/M/title-exact?GoldenEye%20(...        0   \n",
       "2  http://us.imdb.com/M/title-exact?Four%20Rooms%...        0   \n",
       "3  http://us.imdb.com/M/title-exact?Get%20Shorty%...        0   \n",
       "4  http://us.imdb.com/M/title-exact?Copycat%20(1995)        0   \n",
       "\n",
       "                      genres  \n",
       "0  Animation|Children|Comedy  \n",
       "1  Action|Adventure|Thriller  \n",
       "2                   Thriller  \n",
       "3        Action|Comedy|Drama  \n",
       "4       Crime|Drama|Thriller  "
      ]
     },
     "execution_count": 6,
     "metadata": {},
     "output_type": "execute_result"
    }
   ],
   "source": [
    "df_items.head()"
   ]
  },
  {
   "cell_type": "markdown",
   "metadata": {},
   "source": [
    "## Data processing"
   ]
  },
  {
   "cell_type": "code",
   "execution_count": 10,
   "metadata": {},
   "outputs": [],
   "source": [
    "def rename_movies(x):\n",
    "    if ',' in x:\n",
    "        title_split = x.split(',')\n",
    "        title_first = title_split[1].split(' ')\n",
    "        title_second = title_split[0]\n",
    "        title = title_first[1] + ' ' + title_second + ' ' + title_first[-1]\n",
    "        return title\n",
    "    else:\n",
    "        return x"
   ]
  },
  {
   "cell_type": "code",
   "execution_count": 11,
   "metadata": {
    "scrolled": true
   },
   "outputs": [],
   "source": [
    "df_items['title_query'] = df_items.title.apply(rename_movies)"
   ]
  },
  {
   "cell_type": "code",
   "execution_count": 12,
   "metadata": {},
   "outputs": [
    {
     "data": {
      "text/html": [
       "<div>\n",
       "<style scoped>\n",
       "    .dataframe tbody tr th:only-of-type {\n",
       "        vertical-align: middle;\n",
       "    }\n",
       "\n",
       "    .dataframe tbody tr th {\n",
       "        vertical-align: top;\n",
       "    }\n",
       "\n",
       "    .dataframe thead th {\n",
       "        text-align: right;\n",
       "    }\n",
       "</style>\n",
       "<table border=\"1\" class=\"dataframe\">\n",
       "  <thead>\n",
       "    <tr style=\"text-align: right;\">\n",
       "      <th></th>\n",
       "      <th>itemid</th>\n",
       "      <th>title</th>\n",
       "      <th>release_date</th>\n",
       "      <th>video_release_date</th>\n",
       "      <th>IMDb_URL</th>\n",
       "      <th>unknown</th>\n",
       "      <th>genres</th>\n",
       "      <th>title_query</th>\n",
       "    </tr>\n",
       "  </thead>\n",
       "  <tbody>\n",
       "    <tr>\n",
       "      <th>0</th>\n",
       "      <td>1</td>\n",
       "      <td>Toy Story (1995)</td>\n",
       "      <td>01-Jan-1995</td>\n",
       "      <td>NaN</td>\n",
       "      <td>http://us.imdb.com/M/title-exact?Toy%20Story%2...</td>\n",
       "      <td>0</td>\n",
       "      <td>Animation|Children|Comedy</td>\n",
       "      <td>Toy Story (1995)</td>\n",
       "    </tr>\n",
       "    <tr>\n",
       "      <th>1</th>\n",
       "      <td>2</td>\n",
       "      <td>GoldenEye (1995)</td>\n",
       "      <td>01-Jan-1995</td>\n",
       "      <td>NaN</td>\n",
       "      <td>http://us.imdb.com/M/title-exact?GoldenEye%20(...</td>\n",
       "      <td>0</td>\n",
       "      <td>Action|Adventure|Thriller</td>\n",
       "      <td>GoldenEye (1995)</td>\n",
       "    </tr>\n",
       "    <tr>\n",
       "      <th>2</th>\n",
       "      <td>3</td>\n",
       "      <td>Four Rooms (1995)</td>\n",
       "      <td>01-Jan-1995</td>\n",
       "      <td>NaN</td>\n",
       "      <td>http://us.imdb.com/M/title-exact?Four%20Rooms%...</td>\n",
       "      <td>0</td>\n",
       "      <td>Thriller</td>\n",
       "      <td>Four Rooms (1995)</td>\n",
       "    </tr>\n",
       "    <tr>\n",
       "      <th>3</th>\n",
       "      <td>4</td>\n",
       "      <td>Get Shorty (1995)</td>\n",
       "      <td>01-Jan-1995</td>\n",
       "      <td>NaN</td>\n",
       "      <td>http://us.imdb.com/M/title-exact?Get%20Shorty%...</td>\n",
       "      <td>0</td>\n",
       "      <td>Action|Comedy|Drama</td>\n",
       "      <td>Get Shorty (1995)</td>\n",
       "    </tr>\n",
       "    <tr>\n",
       "      <th>4</th>\n",
       "      <td>5</td>\n",
       "      <td>Copycat (1995)</td>\n",
       "      <td>01-Jan-1995</td>\n",
       "      <td>NaN</td>\n",
       "      <td>http://us.imdb.com/M/title-exact?Copycat%20(1995)</td>\n",
       "      <td>0</td>\n",
       "      <td>Crime|Drama|Thriller</td>\n",
       "      <td>Copycat (1995)</td>\n",
       "    </tr>\n",
       "  </tbody>\n",
       "</table>\n",
       "</div>"
      ],
      "text/plain": [
       "   itemid              title release_date  video_release_date  \\\n",
       "0       1   Toy Story (1995)  01-Jan-1995                 NaN   \n",
       "1       2   GoldenEye (1995)  01-Jan-1995                 NaN   \n",
       "2       3  Four Rooms (1995)  01-Jan-1995                 NaN   \n",
       "3       4  Get Shorty (1995)  01-Jan-1995                 NaN   \n",
       "4       5     Copycat (1995)  01-Jan-1995                 NaN   \n",
       "\n",
       "                                            IMDb_URL  unknown  \\\n",
       "0  http://us.imdb.com/M/title-exact?Toy%20Story%2...        0   \n",
       "1  http://us.imdb.com/M/title-exact?GoldenEye%20(...        0   \n",
       "2  http://us.imdb.com/M/title-exact?Four%20Rooms%...        0   \n",
       "3  http://us.imdb.com/M/title-exact?Get%20Shorty%...        0   \n",
       "4  http://us.imdb.com/M/title-exact?Copycat%20(1995)        0   \n",
       "\n",
       "                      genres        title_query  \n",
       "0  Animation|Children|Comedy   Toy Story (1995)  \n",
       "1  Action|Adventure|Thriller   GoldenEye (1995)  \n",
       "2                   Thriller  Four Rooms (1995)  \n",
       "3        Action|Comedy|Drama  Get Shorty (1995)  \n",
       "4       Crime|Drama|Thriller     Copycat (1995)  "
      ]
     },
     "execution_count": 12,
     "metadata": {},
     "output_type": "execute_result"
    }
   ],
   "source": [
    "df_items.head()"
   ]
  },
  {
   "cell_type": "markdown",
   "metadata": {},
   "source": [
    "## Data extraction"
   ]
  },
  {
   "cell_type": "code",
   "execution_count": 20,
   "metadata": {},
   "outputs": [],
   "source": [
    "from tqdm import tqdm\n",
    "from imdb import Cinemagoer\n",
    "import pandas as pd\n",
    "import warnings\n",
    "#warnings.filterwarnings(\"ignore\")"
   ]
  },
  {
   "cell_type": "code",
   "execution_count": 27,
   "metadata": {},
   "outputs": [
    {
     "data": {
      "text/html": [
       "<div>\n",
       "<style scoped>\n",
       "    .dataframe tbody tr th:only-of-type {\n",
       "        vertical-align: middle;\n",
       "    }\n",
       "\n",
       "    .dataframe tbody tr th {\n",
       "        vertical-align: top;\n",
       "    }\n",
       "\n",
       "    .dataframe thead th {\n",
       "        text-align: right;\n",
       "    }\n",
       "</style>\n",
       "<table border=\"1\" class=\"dataframe\">\n",
       "  <thead>\n",
       "    <tr style=\"text-align: right;\">\n",
       "      <th></th>\n",
       "      <th>title_query</th>\n",
       "      <th>count</th>\n",
       "    </tr>\n",
       "  </thead>\n",
       "  <tbody>\n",
       "    <tr>\n",
       "      <th>0</th>\n",
       "      <td>The Designated Mourner (1997)</td>\n",
       "      <td>2</td>\n",
       "    </tr>\n",
       "    <tr>\n",
       "      <th>1</th>\n",
       "      <td>Body Snatchers (1993)</td>\n",
       "      <td>2</td>\n",
       "    </tr>\n",
       "    <tr>\n",
       "      <th>2</th>\n",
       "      <td>Chasing Amy (1997)</td>\n",
       "      <td>2</td>\n",
       "    </tr>\n",
       "    <tr>\n",
       "      <th>3</th>\n",
       "      <td>Sliding Doors (1998)</td>\n",
       "      <td>2</td>\n",
       "    </tr>\n",
       "    <tr>\n",
       "      <th>4</th>\n",
       "      <td>Desperate Measures (1998)</td>\n",
       "      <td>2</td>\n",
       "    </tr>\n",
       "  </tbody>\n",
       "</table>\n",
       "</div>"
      ],
      "text/plain": [
       "                     title_query  count\n",
       "0  The Designated Mourner (1997)      2\n",
       "1          Body Snatchers (1993)      2\n",
       "2             Chasing Amy (1997)      2\n",
       "3           Sliding Doors (1998)      2\n",
       "4      Desperate Measures (1998)      2"
      ]
     },
     "execution_count": 27,
     "metadata": {},
     "output_type": "execute_result"
    }
   ],
   "source": [
    "exclude = ['unknown']\n",
    "query_movies = df_items.groupby('title_query')['genres'].count().sort_values(ascending = False).reset_index(name = 'count')\n",
    "query_movies.head()"
   ]
  },
  {
   "cell_type": "code",
   "execution_count": 28,
   "metadata": {
    "scrolled": true
   },
   "outputs": [
    {
     "name": "stderr",
     "output_type": "stream",
     "text": [
      "59it [03:42,  4.19s/it]2024-04-28 17:27:39,370 CRITICAL [imdbpy] /home/antonio/anaconda3/envs/res/lib/python3.9/site-packages/imdb/_exceptions.py:32: IMDbDataAccessError exception raised; args: ({'errcode': None, 'errmsg': 'None', 'url': 'https://www.imdb.com/find/?q=Somewhere+in+Time+%281980%29&s=tt', 'proxy': '', 'exception type': 'IOError', 'original exception': <HTTPError 405: 'Not Allowed'>},); kwds: {}\n",
      "Traceback (most recent call last):\n",
      "  File \"/home/antonio/anaconda3/envs/res/lib/python3.9/site-packages/imdb/parser/http/__init__.py\", line 233, in retrieve_unicode\n",
      "    response = uopener.open(url)\n",
      "  File \"/home/antonio/anaconda3/envs/res/lib/python3.9/urllib/request.py\", line 523, in open\n",
      "    response = meth(req, response)\n",
      "  File \"/home/antonio/anaconda3/envs/res/lib/python3.9/urllib/request.py\", line 632, in http_response\n",
      "    response = self.parent.error(\n",
      "  File \"/home/antonio/anaconda3/envs/res/lib/python3.9/urllib/request.py\", line 561, in error\n",
      "    return self._call_chain(*args)\n",
      "  File \"/home/antonio/anaconda3/envs/res/lib/python3.9/urllib/request.py\", line 494, in _call_chain\n",
      "    result = func(*args)\n",
      "  File \"/home/antonio/anaconda3/envs/res/lib/python3.9/urllib/request.py\", line 641, in http_error_default\n",
      "    raise HTTPError(req.full_url, code, msg, hdrs, fp)\n",
      "urllib.error.HTTPError: HTTP Error 405: Not Allowed\n",
      "146it [09:17,  3.73s/it]2024-04-28 17:33:14,285 CRITICAL [imdbpy] /home/antonio/anaconda3/envs/res/lib/python3.9/site-packages/imdb/_exceptions.py:32: IMDbDataAccessError exception raised; args: ({'errcode': None, 'errmsg': 'None', 'url': 'https://www.imdb.com/find/?q=The+Blob+%281958%29&s=tt', 'proxy': '', 'exception type': 'IOError', 'original exception': <HTTPError 405: 'Not Allowed'>},); kwds: {}\n",
      "Traceback (most recent call last):\n",
      "  File \"/home/antonio/anaconda3/envs/res/lib/python3.9/site-packages/imdb/parser/http/__init__.py\", line 233, in retrieve_unicode\n",
      "    response = uopener.open(url)\n",
      "  File \"/home/antonio/anaconda3/envs/res/lib/python3.9/urllib/request.py\", line 523, in open\n",
      "    response = meth(req, response)\n",
      "  File \"/home/antonio/anaconda3/envs/res/lib/python3.9/urllib/request.py\", line 632, in http_response\n",
      "    response = self.parent.error(\n",
      "  File \"/home/antonio/anaconda3/envs/res/lib/python3.9/urllib/request.py\", line 561, in error\n",
      "    return self._call_chain(*args)\n",
      "  File \"/home/antonio/anaconda3/envs/res/lib/python3.9/urllib/request.py\", line 494, in _call_chain\n",
      "    result = func(*args)\n",
      "  File \"/home/antonio/anaconda3/envs/res/lib/python3.9/urllib/request.py\", line 641, in http_error_default\n",
      "    raise HTTPError(req.full_url, code, msg, hdrs, fp)\n",
      "urllib.error.HTTPError: HTTP Error 405: Not Allowed\n",
      "306it [19:40,  3.65s/it]2024-04-28 17:43:37,230 CRITICAL [imdbpy] /home/antonio/anaconda3/envs/res/lib/python3.9/site-packages/imdb/_exceptions.py:32: IMDbDataAccessError exception raised; args: ({'errcode': None, 'errmsg': 'None', 'url': 'https://www.imdb.com/find/?q=My+Family+%281995%29&s=tt', 'proxy': '', 'exception type': 'IOError', 'original exception': <HTTPError 405: 'Not Allowed'>},); kwds: {}\n",
      "Traceback (most recent call last):\n",
      "  File \"/home/antonio/anaconda3/envs/res/lib/python3.9/site-packages/imdb/parser/http/__init__.py\", line 233, in retrieve_unicode\n",
      "    response = uopener.open(url)\n",
      "  File \"/home/antonio/anaconda3/envs/res/lib/python3.9/urllib/request.py\", line 523, in open\n",
      "    response = meth(req, response)\n",
      "  File \"/home/antonio/anaconda3/envs/res/lib/python3.9/urllib/request.py\", line 632, in http_response\n",
      "    response = self.parent.error(\n",
      "  File \"/home/antonio/anaconda3/envs/res/lib/python3.9/urllib/request.py\", line 561, in error\n",
      "    return self._call_chain(*args)\n",
      "  File \"/home/antonio/anaconda3/envs/res/lib/python3.9/urllib/request.py\", line 494, in _call_chain\n",
      "    result = func(*args)\n",
      "  File \"/home/antonio/anaconda3/envs/res/lib/python3.9/urllib/request.py\", line 641, in http_error_default\n",
      "    raise HTTPError(req.full_url, code, msg, hdrs, fp)\n",
      "urllib.error.HTTPError: HTTP Error 405: Not Allowed\n",
      "1094it [1:13:19,  4.09s/it]2024-04-28 18:37:15,717 CRITICAL [imdbpy] /home/antonio/anaconda3/envs/res/lib/python3.9/site-packages/imdb/_exceptions.py:32: IMDbDataAccessError exception raised; args: ({'errcode': None, 'errmsg': 'None', 'url': 'https://www.imdb.com/find/?q=Absolute+Power+%281997%29&s=tt', 'proxy': '', 'exception type': 'IOError', 'original exception': <HTTPError 405: 'Not Allowed'>},); kwds: {}\n",
      "Traceback (most recent call last):\n",
      "  File \"/home/antonio/anaconda3/envs/res/lib/python3.9/site-packages/imdb/parser/http/__init__.py\", line 233, in retrieve_unicode\n",
      "    response = uopener.open(url)\n",
      "  File \"/home/antonio/anaconda3/envs/res/lib/python3.9/urllib/request.py\", line 523, in open\n",
      "    response = meth(req, response)\n",
      "  File \"/home/antonio/anaconda3/envs/res/lib/python3.9/urllib/request.py\", line 632, in http_response\n",
      "    response = self.parent.error(\n",
      "  File \"/home/antonio/anaconda3/envs/res/lib/python3.9/urllib/request.py\", line 561, in error\n",
      "    return self._call_chain(*args)\n",
      "  File \"/home/antonio/anaconda3/envs/res/lib/python3.9/urllib/request.py\", line 494, in _call_chain\n",
      "    result = func(*args)\n",
      "  File \"/home/antonio/anaconda3/envs/res/lib/python3.9/urllib/request.py\", line 641, in http_error_default\n",
      "    raise HTTPError(req.full_url, code, msg, hdrs, fp)\n",
      "urllib.error.HTTPError: HTTP Error 405: Not Allowed\n",
      "1216it [1:21:24,  4.70s/it]2024-04-28 18:45:21,261 CRITICAL [imdbpy] /home/antonio/anaconda3/envs/res/lib/python3.9/site-packages/imdb/_exceptions.py:32: IMDbDataAccessError exception raised; args: ({'errcode': None, 'errmsg': 'None', 'url': 'https://www.imdb.com/find/?q=Apocalypse+Now+%281979%29&s=tt', 'proxy': '', 'exception type': 'IOError', 'original exception': <HTTPError 405: 'Not Allowed'>},); kwds: {}\n",
      "Traceback (most recent call last):\n",
      "  File \"/home/antonio/anaconda3/envs/res/lib/python3.9/site-packages/imdb/parser/http/__init__.py\", line 233, in retrieve_unicode\n",
      "    response = uopener.open(url)\n",
      "  File \"/home/antonio/anaconda3/envs/res/lib/python3.9/urllib/request.py\", line 523, in open\n",
      "    response = meth(req, response)\n",
      "  File \"/home/antonio/anaconda3/envs/res/lib/python3.9/urllib/request.py\", line 632, in http_response\n",
      "    response = self.parent.error(\n",
      "  File \"/home/antonio/anaconda3/envs/res/lib/python3.9/urllib/request.py\", line 561, in error\n",
      "    return self._call_chain(*args)\n",
      "  File \"/home/antonio/anaconda3/envs/res/lib/python3.9/urllib/request.py\", line 494, in _call_chain\n",
      "    result = func(*args)\n",
      "  File \"/home/antonio/anaconda3/envs/res/lib/python3.9/urllib/request.py\", line 641, in http_error_default\n",
      "    raise HTTPError(req.full_url, code, msg, hdrs, fp)\n",
      "urllib.error.HTTPError: HTTP Error 405: Not Allowed\n",
      "1407it [1:34:33,  4.10s/it]2024-04-28 18:58:30,451 CRITICAL [imdbpy] /home/antonio/anaconda3/envs/res/lib/python3.9/site-packages/imdb/_exceptions.py:32: IMDbDataAccessError exception raised; args: ({'errcode': None, 'errmsg': 'None', 'url': 'https://www.imdb.com/find/?q=Mad+Love+%281995%29&s=tt', 'proxy': '', 'exception type': 'IOError', 'original exception': <HTTPError 500: 'Internal Server Error'>},); kwds: {}\n",
      "Traceback (most recent call last):\n",
      "  File \"/home/antonio/anaconda3/envs/res/lib/python3.9/site-packages/imdb/parser/http/__init__.py\", line 233, in retrieve_unicode\n",
      "    response = uopener.open(url)\n",
      "  File \"/home/antonio/anaconda3/envs/res/lib/python3.9/urllib/request.py\", line 523, in open\n",
      "    response = meth(req, response)\n",
      "  File \"/home/antonio/anaconda3/envs/res/lib/python3.9/urllib/request.py\", line 632, in http_response\n",
      "    response = self.parent.error(\n",
      "  File \"/home/antonio/anaconda3/envs/res/lib/python3.9/urllib/request.py\", line 561, in error\n",
      "    return self._call_chain(*args)\n",
      "  File \"/home/antonio/anaconda3/envs/res/lib/python3.9/urllib/request.py\", line 494, in _call_chain\n",
      "    result = func(*args)\n",
      "  File \"/home/antonio/anaconda3/envs/res/lib/python3.9/urllib/request.py\", line 641, in http_error_default\n",
      "    raise HTTPError(req.full_url, code, msg, hdrs, fp)\n",
      "urllib.error.HTTPError: HTTP Error 500: Internal Server Error\n",
      "1412it [1:34:49,  3.66s/it]2024-04-28 18:58:46,424 CRITICAL [imdbpy] /home/antonio/anaconda3/envs/res/lib/python3.9/site-packages/imdb/_exceptions.py:32: IMDbDataAccessError exception raised; args: ({'errcode': None, 'errmsg': 'None', 'url': 'https://www.imdb.com/find/?q=Local+Hero+%281983%29&s=tt', 'proxy': '', 'exception type': 'IOError', 'original exception': <HTTPError 500: 'Internal Server Error'>},); kwds: {}\n",
      "Traceback (most recent call last):\n",
      "  File \"/home/antonio/anaconda3/envs/res/lib/python3.9/site-packages/imdb/parser/http/__init__.py\", line 233, in retrieve_unicode\n",
      "    response = uopener.open(url)\n",
      "  File \"/home/antonio/anaconda3/envs/res/lib/python3.9/urllib/request.py\", line 523, in open\n",
      "    response = meth(req, response)\n",
      "  File \"/home/antonio/anaconda3/envs/res/lib/python3.9/urllib/request.py\", line 632, in http_response\n",
      "    response = self.parent.error(\n",
      "  File \"/home/antonio/anaconda3/envs/res/lib/python3.9/urllib/request.py\", line 561, in error\n",
      "    return self._call_chain(*args)\n",
      "  File \"/home/antonio/anaconda3/envs/res/lib/python3.9/urllib/request.py\", line 494, in _call_chain\n",
      "    result = func(*args)\n",
      "  File \"/home/antonio/anaconda3/envs/res/lib/python3.9/urllib/request.py\", line 641, in http_error_default\n",
      "    raise HTTPError(req.full_url, code, msg, hdrs, fp)\n",
      "urllib.error.HTTPError: HTTP Error 500: Internal Server Error\n",
      "1418it [1:35:09,  3.66s/it]2024-04-28 18:59:06,628 CRITICAL [imdbpy] /home/antonio/anaconda3/envs/res/lib/python3.9/site-packages/imdb/_exceptions.py:32: IMDbDataAccessError exception raised; args: ({'errcode': None, 'errmsg': 'None', 'url': 'https://www.imdb.com/find/?q=Little+Lord+Fauntleroy+%281936%29&s=tt', 'proxy': '', 'exception type': 'IOError', 'original exception': <HTTPError 500: 'Internal Server Error'>},); kwds: {}\n",
      "Traceback (most recent call last):\n",
      "  File \"/home/antonio/anaconda3/envs/res/lib/python3.9/site-packages/imdb/parser/http/__init__.py\", line 233, in retrieve_unicode\n",
      "    response = uopener.open(url)\n",
      "  File \"/home/antonio/anaconda3/envs/res/lib/python3.9/urllib/request.py\", line 523, in open\n",
      "    response = meth(req, response)\n",
      "  File \"/home/antonio/anaconda3/envs/res/lib/python3.9/urllib/request.py\", line 632, in http_response\n",
      "    response = self.parent.error(\n",
      "  File \"/home/antonio/anaconda3/envs/res/lib/python3.9/urllib/request.py\", line 561, in error\n",
      "    return self._call_chain(*args)\n",
      "  File \"/home/antonio/anaconda3/envs/res/lib/python3.9/urllib/request.py\", line 494, in _call_chain\n",
      "    result = func(*args)\n",
      "  File \"/home/antonio/anaconda3/envs/res/lib/python3.9/urllib/request.py\", line 641, in http_error_default\n",
      "    raise HTTPError(req.full_url, code, msg, hdrs, fp)\n",
      "urllib.error.HTTPError: HTTP Error 500: Internal Server Error\n",
      "1454it [1:37:30,  3.84s/it]2024-04-28 19:01:27,227 CRITICAL [imdbpy] /home/antonio/anaconda3/envs/res/lib/python3.9/site-packages/imdb/_exceptions.py:32: IMDbDataAccessError exception raised; args: ({'errcode': None, 'errmsg': 'None', 'url': 'https://www.imdb.com/find/?q=Lost+in+Space+%281998%29&s=tt', 'proxy': '', 'exception type': 'IOError', 'original exception': <HTTPError 405: 'Not Allowed'>},); kwds: {}\n",
      "Traceback (most recent call last):\n",
      "  File \"/home/antonio/anaconda3/envs/res/lib/python3.9/site-packages/imdb/parser/http/__init__.py\", line 233, in retrieve_unicode\n",
      "    response = uopener.open(url)\n",
      "  File \"/home/antonio/anaconda3/envs/res/lib/python3.9/urllib/request.py\", line 523, in open\n",
      "    response = meth(req, response)\n",
      "  File \"/home/antonio/anaconda3/envs/res/lib/python3.9/urllib/request.py\", line 632, in http_response\n",
      "    response = self.parent.error(\n",
      "  File \"/home/antonio/anaconda3/envs/res/lib/python3.9/urllib/request.py\", line 561, in error\n",
      "    return self._call_chain(*args)\n",
      "  File \"/home/antonio/anaconda3/envs/res/lib/python3.9/urllib/request.py\", line 494, in _call_chain\n",
      "    result = func(*args)\n",
      "  File \"/home/antonio/anaconda3/envs/res/lib/python3.9/urllib/request.py\", line 641, in http_error_default\n",
      "    raise HTTPError(req.full_url, code, msg, hdrs, fp)\n",
      "urllib.error.HTTPError: HTTP Error 405: Not Allowed\n",
      "1516it [1:41:31,  3.87s/it]2024-04-28 19:05:27,952 CRITICAL [imdbpy] /home/antonio/anaconda3/envs/res/lib/python3.9/site-packages/imdb/_exceptions.py:32: IMDbDataAccessError exception raised; args: ({'errcode': None, 'errmsg': 'None', 'url': 'https://www.imdb.com/find/?q=Fathers%27+Day+%281997%29&s=tt', 'proxy': '', 'exception type': 'IOError', 'original exception': <HTTPError 405: 'Not Allowed'>},); kwds: {}\n",
      "Traceback (most recent call last):\n",
      "  File \"/home/antonio/anaconda3/envs/res/lib/python3.9/site-packages/imdb/parser/http/__init__.py\", line 233, in retrieve_unicode\n",
      "    response = uopener.open(url)\n",
      "  File \"/home/antonio/anaconda3/envs/res/lib/python3.9/urllib/request.py\", line 523, in open\n",
      "    response = meth(req, response)\n",
      "  File \"/home/antonio/anaconda3/envs/res/lib/python3.9/urllib/request.py\", line 632, in http_response\n",
      "    response = self.parent.error(\n",
      "  File \"/home/antonio/anaconda3/envs/res/lib/python3.9/urllib/request.py\", line 561, in error\n",
      "    return self._call_chain(*args)\n",
      "  File \"/home/antonio/anaconda3/envs/res/lib/python3.9/urllib/request.py\", line 494, in _call_chain\n",
      "    result = func(*args)\n",
      "  File \"/home/antonio/anaconda3/envs/res/lib/python3.9/urllib/request.py\", line 641, in http_error_default\n",
      "    raise HTTPError(req.full_url, code, msg, hdrs, fp)\n",
      "urllib.error.HTTPError: HTTP Error 405: Not Allowed\n",
      "1615it [1:48:02,  4.28s/it]2024-04-28 19:11:59,509 CRITICAL [imdbpy] /home/antonio/anaconda3/envs/res/lib/python3.9/site-packages/imdb/_exceptions.py:32: IMDbDataAccessError exception raised; args: ({'errcode': None, 'errmsg': 'None', 'url': 'https://www.imdb.com/find/?q=Groundhog+Day+%281993%29&s=tt', 'proxy': '', 'exception type': 'IOError', 'original exception': <HTTPError 405: 'Not Allowed'>},); kwds: {}\n",
      "Traceback (most recent call last):\n",
      "  File \"/home/antonio/anaconda3/envs/res/lib/python3.9/site-packages/imdb/parser/http/__init__.py\", line 233, in retrieve_unicode\n",
      "    response = uopener.open(url)\n",
      "  File \"/home/antonio/anaconda3/envs/res/lib/python3.9/urllib/request.py\", line 523, in open\n",
      "    response = meth(req, response)\n",
      "  File \"/home/antonio/anaconda3/envs/res/lib/python3.9/urllib/request.py\", line 632, in http_response\n",
      "    response = self.parent.error(\n",
      "  File \"/home/antonio/anaconda3/envs/res/lib/python3.9/urllib/request.py\", line 561, in error\n",
      "    return self._call_chain(*args)\n",
      "  File \"/home/antonio/anaconda3/envs/res/lib/python3.9/urllib/request.py\", line 494, in _call_chain\n",
      "    result = func(*args)\n",
      "  File \"/home/antonio/anaconda3/envs/res/lib/python3.9/urllib/request.py\", line 641, in http_error_default\n",
      "    raise HTTPError(req.full_url, code, msg, hdrs, fp)\n",
      "urllib.error.HTTPError: HTTP Error 405: Not Allowed\n",
      "1622it [1:48:25,  3.63s/it]2024-04-28 19:12:22,085 CRITICAL [imdbpy] /home/antonio/anaconda3/envs/res/lib/python3.9/site-packages/imdb/_exceptions.py:32: IMDbDataAccessError exception raised; args: ({'errcode': None, 'errmsg': 'None', 'url': 'https://www.imdb.com/find/?q=Guilty+as+Sin+%281993%29&s=tt', 'proxy': '', 'exception type': 'IOError', 'original exception': <HTTPError 405: 'Not Allowed'>},); kwds: {}\n",
      "Traceback (most recent call last):\n",
      "  File \"/home/antonio/anaconda3/envs/res/lib/python3.9/site-packages/imdb/parser/http/__init__.py\", line 233, in retrieve_unicode\n",
      "    response = uopener.open(url)\n",
      "  File \"/home/antonio/anaconda3/envs/res/lib/python3.9/urllib/request.py\", line 523, in open\n",
      "    response = meth(req, response)\n",
      "  File \"/home/antonio/anaconda3/envs/res/lib/python3.9/urllib/request.py\", line 632, in http_response\n",
      "    response = self.parent.error(\n",
      "  File \"/home/antonio/anaconda3/envs/res/lib/python3.9/urllib/request.py\", line 561, in error\n",
      "    return self._call_chain(*args)\n",
      "  File \"/home/antonio/anaconda3/envs/res/lib/python3.9/urllib/request.py\", line 494, in _call_chain\n",
      "    result = func(*args)\n",
      "  File \"/home/antonio/anaconda3/envs/res/lib/python3.9/urllib/request.py\", line 641, in http_error_default\n",
      "    raise HTTPError(req.full_url, code, msg, hdrs, fp)\n",
      "urllib.error.HTTPError: HTTP Error 405: Not Allowed\n",
      "1664it [1:51:08,  4.01s/it]\n"
     ]
    }
   ],
   "source": [
    "actors = []\n",
    "movies_list = []\n",
    "not_access = []\n",
    "ia = Cinemagoer()\n",
    "for row in tqdm(query_movies.itertuples()):\n",
    "    try:\n",
    "        if row.title_query not in exclude:\n",
    "            # get movie id\n",
    "            with warnings.catch_warnings():\n",
    "                warnings.simplefilter('ignore')\n",
    "                movie_id = ia.search_movie(row.title_query)[0].movieID\n",
    "                # get movie data\n",
    "                movie = ia.get_movie(movie_id, info = ['main'])\n",
    "            # append actors\n",
    "            actors.append(movie.get('stars'))\n",
    "            movies_list.append(row.title_query)\n",
    "        else:\n",
    "            actors.append(['Unknow'])\n",
    "            movies_list.append(row.title_query)\n",
    "    except:\n",
    "        not_access.append(row.title_query)\n",
    "        actors.append(['Unknow'])\n",
    "        movies_list.append(row.title_query)"
   ]
  },
  {
   "cell_type": "code",
   "execution_count": 35,
   "metadata": {},
   "outputs": [
    {
     "name": "stdout",
     "output_type": "stream",
     "text": [
      "1664 1664\n"
     ]
    }
   ],
   "source": [
    "# check total movies list and actor list\n",
    "print(len(movies_list), len(actors))"
   ]
  },
  {
   "cell_type": "markdown",
   "metadata": {},
   "source": [
    "Now we convert the data into a `dataframe`:"
   ]
  },
  {
   "cell_type": "code",
   "execution_count": 36,
   "metadata": {},
   "outputs": [],
   "source": [
    "actors_movies = pd.DataFrame()\n",
    "actors_movies['movies'] = movies_list\n",
    "actors_movies['actors'] = actors\n",
    "# replace None with Unknow\n",
    "actors_movies.fillna(value = 'Unknow', inplace = True)"
   ]
  },
  {
   "cell_type": "code",
   "execution_count": 37,
   "metadata": {},
   "outputs": [
    {
     "data": {
      "text/html": [
       "<div>\n",
       "<style scoped>\n",
       "    .dataframe tbody tr th:only-of-type {\n",
       "        vertical-align: middle;\n",
       "    }\n",
       "\n",
       "    .dataframe tbody tr th {\n",
       "        vertical-align: top;\n",
       "    }\n",
       "\n",
       "    .dataframe thead th {\n",
       "        text-align: right;\n",
       "    }\n",
       "</style>\n",
       "<table border=\"1\" class=\"dataframe\">\n",
       "  <thead>\n",
       "    <tr style=\"text-align: right;\">\n",
       "      <th></th>\n",
       "      <th>movies</th>\n",
       "      <th>actors</th>\n",
       "    </tr>\n",
       "  </thead>\n",
       "  <tbody>\n",
       "    <tr>\n",
       "      <th>0</th>\n",
       "      <td>The Designated Mourner (1997)</td>\n",
       "      <td>[Mike Nichols, Miranda Richardson, David de Ke...</td>\n",
       "    </tr>\n",
       "    <tr>\n",
       "      <th>1</th>\n",
       "      <td>Body Snatchers (1993)</td>\n",
       "      <td>[Terry Kinney, Meg Tilly, Gabrielle Anwar]</td>\n",
       "    </tr>\n",
       "    <tr>\n",
       "      <th>2</th>\n",
       "      <td>Chasing Amy (1997)</td>\n",
       "      <td>[Ethan Suplee, Ben Affleck, Scott Mosier]</td>\n",
       "    </tr>\n",
       "    <tr>\n",
       "      <th>3</th>\n",
       "      <td>Sliding Doors (1998)</td>\n",
       "      <td>[Gwyneth Paltrow, John Hannah, John Lynch]</td>\n",
       "    </tr>\n",
       "    <tr>\n",
       "      <th>4</th>\n",
       "      <td>Desperate Measures (1998)</td>\n",
       "      <td>[Michael Keaton, Andy Garcia, Brian Cox]</td>\n",
       "    </tr>\n",
       "  </tbody>\n",
       "</table>\n",
       "</div>"
      ],
      "text/plain": [
       "                          movies  \\\n",
       "0  The Designated Mourner (1997)   \n",
       "1          Body Snatchers (1993)   \n",
       "2             Chasing Amy (1997)   \n",
       "3           Sliding Doors (1998)   \n",
       "4      Desperate Measures (1998)   \n",
       "\n",
       "                                              actors  \n",
       "0  [Mike Nichols, Miranda Richardson, David de Ke...  \n",
       "1         [Terry Kinney, Meg Tilly, Gabrielle Anwar]  \n",
       "2          [Ethan Suplee, Ben Affleck, Scott Mosier]  \n",
       "3         [Gwyneth Paltrow, John Hannah, John Lynch]  \n",
       "4           [Michael Keaton, Andy Garcia, Brian Cox]  "
      ]
     },
     "execution_count": 37,
     "metadata": {},
     "output_type": "execute_result"
    }
   ],
   "source": [
    "actors_movies.head()"
   ]
  },
  {
   "cell_type": "markdown",
   "metadata": {},
   "source": [
    "Now we need to add movie `ID`, we can add it using a `merge` with the `ID's` from `df_items`:"
   ]
  },
  {
   "cell_type": "code",
   "execution_count": 39,
   "metadata": {},
   "outputs": [
    {
     "data": {
      "text/html": [
       "<div>\n",
       "<style scoped>\n",
       "    .dataframe tbody tr th:only-of-type {\n",
       "        vertical-align: middle;\n",
       "    }\n",
       "\n",
       "    .dataframe tbody tr th {\n",
       "        vertical-align: top;\n",
       "    }\n",
       "\n",
       "    .dataframe thead th {\n",
       "        text-align: right;\n",
       "    }\n",
       "</style>\n",
       "<table border=\"1\" class=\"dataframe\">\n",
       "  <thead>\n",
       "    <tr style=\"text-align: right;\">\n",
       "      <th></th>\n",
       "      <th>itemid</th>\n",
       "      <th>movies</th>\n",
       "      <th>actors</th>\n",
       "    </tr>\n",
       "  </thead>\n",
       "  <tbody>\n",
       "    <tr>\n",
       "      <th>0</th>\n",
       "      <td>1</td>\n",
       "      <td>Toy Story (1995)</td>\n",
       "      <td>[Tom Hanks, Tim Allen, Don Rickles]</td>\n",
       "    </tr>\n",
       "    <tr>\n",
       "      <th>1</th>\n",
       "      <td>2</td>\n",
       "      <td>GoldenEye (1995)</td>\n",
       "      <td>[Pierce Brosnan, Sean Bean, Izabella Scorupco]</td>\n",
       "    </tr>\n",
       "    <tr>\n",
       "      <th>2</th>\n",
       "      <td>3</td>\n",
       "      <td>Four Rooms (1995)</td>\n",
       "      <td>[Sammi Davis, Amanda De Cadenet, Valeria Golino]</td>\n",
       "    </tr>\n",
       "    <tr>\n",
       "      <th>3</th>\n",
       "      <td>4</td>\n",
       "      <td>Get Shorty (1995)</td>\n",
       "      <td>[John Travolta, Gene Hackman, Rene Russo]</td>\n",
       "    </tr>\n",
       "    <tr>\n",
       "      <th>4</th>\n",
       "      <td>5</td>\n",
       "      <td>Copycat (1995)</td>\n",
       "      <td>[Sigourney Weaver, Holly Hunter, Dermot Mulroney]</td>\n",
       "    </tr>\n",
       "  </tbody>\n",
       "</table>\n",
       "</div>"
      ],
      "text/plain": [
       "   itemid             movies  \\\n",
       "0       1   Toy Story (1995)   \n",
       "1       2   GoldenEye (1995)   \n",
       "2       3  Four Rooms (1995)   \n",
       "3       4  Get Shorty (1995)   \n",
       "4       5     Copycat (1995)   \n",
       "\n",
       "                                              actors  \n",
       "0                [Tom Hanks, Tim Allen, Don Rickles]  \n",
       "1     [Pierce Brosnan, Sean Bean, Izabella Scorupco]  \n",
       "2   [Sammi Davis, Amanda De Cadenet, Valeria Golino]  \n",
       "3          [John Travolta, Gene Hackman, Rene Russo]  \n",
       "4  [Sigourney Weaver, Holly Hunter, Dermot Mulroney]  "
      ]
     },
     "execution_count": 39,
     "metadata": {},
     "output_type": "execute_result"
    }
   ],
   "source": [
    "movie_items = df_items[['itemid', 'title']].copy()\n",
    "movie_items['title'] = movie_items.title.apply(rename_movies)\n",
    "movie_items.rename(columns = {'title': 'movies'}, inplace = True)\n",
    "movie_items = movie_items.merge(actors_movies, how='inner', on='movies')\n",
    "movie_items.head()"
   ]
  },
  {
   "cell_type": "markdown",
   "metadata": {},
   "source": [
    "Now, we save the results into a `csv` file:"
   ]
  },
  {
   "cell_type": "code",
   "execution_count": 40,
   "metadata": {},
   "outputs": [],
   "source": [
    "movie_items.to_csv('./movie_items.csv', sep = ',', index = False)"
   ]
  }
 ],
 "metadata": {
  "accelerator": "GPU",
  "colab": {
   "provenance": []
  },
  "kernelspec": {
   "display_name": "Python 3 (ipykernel)",
   "language": "python",
   "name": "python3"
  },
  "language_info": {
   "codemirror_mode": {
    "name": "ipython",
    "version": 3
   },
   "file_extension": ".py",
   "mimetype": "text/x-python",
   "name": "python",
   "nbconvert_exporter": "python",
   "pygments_lexer": "ipython3",
   "version": "3.9.18"
  },
  "varInspector": {
   "cols": {
    "lenName": 16,
    "lenType": 16,
    "lenVar": 40
   },
   "kernels_config": {
    "python": {
     "delete_cmd_postfix": "",
     "delete_cmd_prefix": "del ",
     "library": "var_list.py",
     "varRefreshCmd": "print(var_dic_list())"
    },
    "r": {
     "delete_cmd_postfix": ") ",
     "delete_cmd_prefix": "rm(",
     "library": "var_list.r",
     "varRefreshCmd": "cat(var_dic_list()) "
    }
   },
   "types_to_exclude": [
    "module",
    "function",
    "builtin_function_or_method",
    "instance",
    "_Feature"
   ],
   "window_display": false
  }
 },
 "nbformat": 4,
 "nbformat_minor": 4
}
